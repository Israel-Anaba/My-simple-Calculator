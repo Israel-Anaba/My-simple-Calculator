{
 "cells": [
  {
   "cell_type": "code",
   "execution_count": 8,
   "id": "3520d3dc",
   "metadata": {},
   "outputs": [
    {
     "name": "stdout",
     "output_type": "stream",
     "text": [
      "Hello Azubi Store, thank you for requesting an analysis on your data. Please find the analysis below:\n",
      "\n",
      "The total price average for all products is : GHc 33.0\n"
     ]
    }
   ],
   "source": [
    "#  calculating the average price\n",
    "\n",
    "products = [\"Sankofa Foods\", \"Jamestown Coffee\", \"Bioko Chocolate\", \"Blue Skies Ice Cream\",\n",
    "            \"Fair Afric Chocolate\", \"Kawa Moka Coffee\", \"Aphro Spirit\", \"Mensado Bissap\", \"Voltic\"]\n",
    "prices = [30, 25, 40, 20, 20, 35, 45, 50, 35]\n",
    "\n",
    "last_week = [2, 3, 5, 8, 4, 4, 6, 2, 9]\n",
    "\n",
    "total_price = 0\n",
    "total_customers = 0\n",
    "\n",
    "for i in range(len(products)):\n",
    "  total_price += prices[i] * last_week[i]\n",
    "  total_customers += last_week[i]\n",
    "    \n",
    "price_average = round(total_price / total_customers,0)  \n",
    "\n",
    "print(f\"Hello Azubi Store, thank you for requesting an analysis on your data. Please find the analysis below:\")\n",
    "print()\n",
    "print(f\"The total price average for all products is : GHc {price_average}\")\n"
   ]
  },
  {
   "cell_type": "code",
   "execution_count": 13,
   "id": "b190b523",
   "metadata": {},
   "outputs": [
    {
     "name": "stdout",
     "output_type": "stream",
     "text": [
      "Dear Azubi Store, \n",
      "We are pleased to provide you with the analysis you requested.  \n",
      "According to your criteria, we have reduced all prices by Ghc5. The new prices are:GHc [25, 20, 35, 15, 15, 30, 40, 45, 30]. \n",
      "We hope this meets your needs and thank you for choosing us. \n",
      "\n",
      "Sincerely, \n",
      "Data Analysis Team\n"
     ]
    }
   ],
   "source": [
    "# updating prices by reducng the prices by Ghc5\n",
    "\n",
    "prices = [30, 25, 40, 20, 20, 35, 45, 50, 35]\n",
    "\n",
    "new_prices = []\n",
    "\n",
    "for price in prices:\n",
    "    new_price = price -5\n",
    "    new_prices.append(new_price)\n",
    "    \n",
    "print(f\"Dear Azubi Store, \\nWe are pleased to provide you with the analysis you requested.  \\nAccording to your criteria, we have reduced all prices by Ghc5. The new prices are:GHc {new_prices}. \\nWe hope this meets your needs and thank you for choosing us. \\n\\nSincerely, \\nData Analysis Team\")"
   ]
  },
  {
   "cell_type": "code",
   "execution_count": 10,
   "id": "500255bd",
   "metadata": {},
   "outputs": [
    {
     "name": "stdout",
     "output_type": "stream",
     "text": [
      "Hello Azubi Store, thank you for requesting an analysis on your data. Please find the analysis below:\n",
      "\n",
      "The total revenue: GHc 1400\n"
     ]
    }
   ],
   "source": [
    "# calculating the total revenue\n",
    "\n",
    "products = [\"Sankofa Foods\", \"Jamestown Coffee\", \"Bioko Chocolate\", \"Blue Skies Ice Cream\",\n",
    "            \"Fair Afric Chocolate\", \"Kawa Moka Coffee\", \"Aphro Spirit\", \"Mensado Bissap\", \"Voltic\"]\n",
    "prices = [30, 25, 40, 20, 20, 35, 45, 50, 35]\n",
    "last_week = [2, 3, 5, 8, 4, 4, 6, 2, 9]\n",
    "\n",
    "total_revenue = 0\n",
    "\n",
    "for index in range(len(products)):\n",
    "    total_revenue += prices[index] * last_week[index]\n",
    "print(f\"Hello Azubi Store, thank you for requesting an analysis on your data. Please find the analysis below:\")\n",
    "print()\n",
    "print(f\"The total revenue: GHc {total_revenue}\")"
   ]
  },
  {
   "cell_type": "code",
   "execution_count": 11,
   "id": "d7cd4c40",
   "metadata": {},
   "outputs": [
    {
     "name": "stdout",
     "output_type": "stream",
     "text": [
      "Hello Azubi Store, thank you for requesting an analysis on your data. Please find the analysis below:\n",
      "\n",
      "The average daily revenue generated from the products is GHc200.0\n"
     ]
    }
   ],
   "source": [
    "# calculating the average daily revenue\n",
    "\n",
    "products = [\"Sankofa Foods\", \"Jamestown Coffee\", \"Bioko Chocolate\", \"Blue Skies Ice Cream\",\n",
    "            \"Fair Afric Chocolate\", \"Kawa Moka Coffee\", \"Aphro Spirit\", \"Mensado Bissap\", \"Voltic\"]\n",
    "prices = [30, 25, 40, 20, 20, 35, 45, 50, 35]\n",
    "\n",
    "last_week = [2, 3, 5, 8, 4, 4, 6, 2, 9]\n",
    "\n",
    "total_revenue = 0\n",
    "\n",
    "for i in range(len(products)):\n",
    "    revenue = prices[i] * last_week[i]\n",
    "    total_revenue += revenue\n",
    "\n",
    "average_daily_revenue = total_revenue/7\n",
    "\n",
    "print(f\"Hello Azubi Store, thank you for requesting an analysis on your data. Please find the analysis below:\")\n",
    "print()\n",
    "print(\"The average daily revenue generated from the products is GHc\" + str(average_daily_revenue))"
   ]
  },
  {
   "cell_type": "code",
   "execution_count": 15,
   "id": "0721dc8f",
   "metadata": {},
   "outputs": [
    {
     "name": "stdout",
     "output_type": "stream",
     "text": [
      "Hello Azubi Store, thank you for requesting an analysis on your data. Please find the analysis below:\n",
      "\n",
      "These are list of products under GHc 30:['Sankofa Foods', 'Jamestown Coffee', 'Blue Skies Ice Cream', 'Fair Afric Chocolate']\n"
     ]
    }
   ],
   "source": [
    "# list of product under ghc 30 with the new prices. (add the condition for getting the new prices)\n",
    "\n",
    "products = [\"Sankofa Foods\", \"Jamestown Coffee\", \"Bioko Chocolate\", \"Blue Skies Ice Cream\",\n",
    "            \"Fair Afric Chocolate\", \"Kawa Moka Coffee\", \"Aphro Spirit\", \"Mensado Bissap\", \"Voltic\"]\n",
    "prices = [30, 25, 40, 20, 20, 35, 45, 50, 35]\n",
    "\n",
    "new_prices = []\n",
    "\n",
    "for price in prices:\n",
    "    new_price = price -5\n",
    "    new_prices.append(new_price)\n",
    "\n",
    "products_under_30 = []\n",
    "\n",
    "for i in range(len(products)):\n",
    "  if new_prices[i] < 30:\n",
    "    products_under_30.append(products[i])\n",
    "    \n",
    "print(f\"Hello Azubi Store, thank you for requesting an analysis on your data. Please find the analysis below:\")\n",
    "print()    \n",
    "print(f\"These are list of products under GHc 30:{products_under_30}\")\n"
   ]
  },
  {
   "cell_type": "code",
   "execution_count": null,
   "id": "5922b93a",
   "metadata": {},
   "outputs": [],
   "source": []
  }
 ],
 "metadata": {
  "kernelspec": {
   "display_name": "Python 3 (ipykernel)",
   "language": "python",
   "name": "python3"
  },
  "language_info": {
   "codemirror_mode": {
    "name": "ipython",
    "version": 3
   },
   "file_extension": ".py",
   "mimetype": "text/x-python",
   "name": "python",
   "nbconvert_exporter": "python",
   "pygments_lexer": "ipython3",
   "version": "3.9.13"
  }
 },
 "nbformat": 4,
 "nbformat_minor": 5
}
